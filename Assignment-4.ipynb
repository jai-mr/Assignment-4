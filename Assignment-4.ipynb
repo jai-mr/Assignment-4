{
 "cells": [
  {
   "cell_type": "markdown",
   "metadata": {},
   "source": [
    "* Repository github url : https://github.com/jai-mr/\n",
    "* Assignment Repository : https://github.com/jai-mr/Assignment-4\n",
    "* Submitted by : Jaideep Rangnekar\n",
    "* Registered email id : jaideepmr@gmail.com"
   ]
  },
  {
   "cell_type": "code",
   "execution_count": 13,
   "metadata": {
    "colab": {},
    "colab_type": "code",
    "id": "0m2JWFliFfKT"
   },
   "outputs": [],
   "source": [
    "# Import all the libraries\n",
    "from __future__ import print_function\n",
    "import torch\n",
    "import torch.nn as nn\n",
    "import torch.nn.functional as F\n",
    "import torch.optim as optim\n",
    "from torchvision import datasets, transforms"
   ]
  },
  {
   "cell_type": "code",
   "execution_count": 14,
   "metadata": {
    "colab": {},
    "colab_type": "code",
    "id": "QDlEphhRuwXQ"
   },
   "outputs": [],
   "source": [
    "\"\"\"Net: Our Base Model for MNIST Classification\n",
    "Attributes\n",
    "    \n",
    "\"\"\"\n",
    "class Net(nn.Module):\n",
    "    def __init__(self):\n",
    "        super(Net, self).__init__()\n",
    "\n",
    "        # input - 28x28x1; output - 22x22x32;\n",
    "        self.conv1 = nn.Sequential(\n",
    "            # RF - 3x3\n",
    "            nn.Conv2d(1, 16, 3, bias=False), # 26\n",
    "            nn.ReLU(),\n",
    "            nn.BatchNorm2d(16),\n",
    "            nn.Dropout2d(0.1),\n",
    "\n",
    "            # RF - 5x5\n",
    "            nn.Conv2d(16, 16, 3, bias=False), # 24\n",
    "            nn.ReLU(),\n",
    "            nn.BatchNorm2d(16),\n",
    "            nn.Dropout2d(0.1),\n",
    "\n",
    "            # RF - 7x7\n",
    "            nn.Conv2d(16, 32, 3, bias=False), # 22\n",
    "            nn.ReLU(),\n",
    "            nn.BatchNorm2d(32),\n",
    "            nn.Dropout2d(0.1),\n",
    "        )\n",
    "\n",
    "        # translation layer\n",
    "        # input - 22x22x32; output - 11x11x16\n",
    "        self.trans1 = nn.Sequential(\n",
    "            # RF - 7x7\n",
    "            nn.Conv2d(32, 16, 1, bias=False), # 22\n",
    "            nn.ReLU(),\n",
    "\n",
    "            # RF - 14x14\n",
    "            nn.MaxPool2d(2, 2), # 11\n",
    "        )\n",
    "        \n",
    "        # input - 11x11x16; output - 7x7x16;\n",
    "        self.conv2 = nn.Sequential(\n",
    "            # RF - 16x16\n",
    "            nn.Conv2d(16, 16, 3, bias=False), # 9\n",
    "            nn.ReLU(),\n",
    "            nn.BatchNorm2d(16),\n",
    "            nn.Dropout2d(0.1),\n",
    "\n",
    "            # RF - 18x18\n",
    "            nn.Conv2d(16, 16, 3, bias=False), # 7\n",
    "            nn.ReLU(),\n",
    "            nn.BatchNorm2d(16),\n",
    "            nn.Dropout2d(0.1),\n",
    "        )\n",
    "\n",
    "        # input - 7x7x16; output - 5x5x16\n",
    "        self.conv3 = nn.Sequential(\n",
    "            # RF - 20x20\n",
    "            nn.Conv2d(16, 16, 3, padding=1, bias=False), # 5\n",
    "            nn.ReLU(),\n",
    "            nn.BatchNorm2d(16),\n",
    "            nn.Dropout2d(0.1),\n",
    "\n",
    "            # RF - 22x22\n",
    "            nn.Conv2d(16, 16, 3, bias=False), # 5\n",
    "            nn.ReLU(),\n",
    "            nn.BatchNorm2d(16),\n",
    "            nn.Dropout2d(0.1),\n",
    "        )\n",
    "\n",
    "        # input - 5x5x16; output - 1x1x10\n",
    "        self.avg_pool = nn.Sequential(\n",
    "            # # RF - 22x22\n",
    "            nn.Conv2d(16, 10, 1, bias=False),\n",
    "            nn.AvgPool2d(5)\n",
    "        )\n",
    "\n",
    "    \"\"\"forward: performs a forward pass when model(x) is called\n",
    "    Params\n",
    "        x: the input data\n",
    "    Returns\n",
    "        y: the output of the model\n",
    "    \"\"\"\n",
    "    def forward(self, x):\n",
    "        x = self.conv1(x)\n",
    "        x = self.trans1(x)\n",
    "        x = self.conv2(x)\n",
    "        x = self.conv3(x)\n",
    "        x = self.avg_pool(x)\n",
    "\n",
    "        x = x.view(-1, 10)\n",
    "        return F.log_softmax(x)"
   ]
  },
  {
   "cell_type": "code",
   "execution_count": 15,
   "metadata": {
    "colab": {
     "base_uri": "https://localhost:8080/",
     "height": 843
    },
    "colab_type": "code",
    "id": "WTgOEQRnvNx-",
    "outputId": "2f6b2f37-2c4b-4b58-d1bc-9df5dfea0dad"
   },
   "outputs": [
    {
     "name": "stdout",
     "output_type": "stream",
     "text": [
      "Requirement already satisfied: torchsummary in /usr/local/lib/python3.6/dist-packages (1.5.1)\n",
      "----------------------------------------------------------------\n",
      "        Layer (type)               Output Shape         Param #\n",
      "================================================================\n",
      "            Conv2d-1           [-1, 16, 26, 26]             144\n",
      "              ReLU-2           [-1, 16, 26, 26]               0\n",
      "       BatchNorm2d-3           [-1, 16, 26, 26]              32\n",
      "         Dropout2d-4           [-1, 16, 26, 26]               0\n",
      "            Conv2d-5           [-1, 16, 24, 24]           2,304\n",
      "              ReLU-6           [-1, 16, 24, 24]               0\n",
      "       BatchNorm2d-7           [-1, 16, 24, 24]              32\n",
      "         Dropout2d-8           [-1, 16, 24, 24]               0\n",
      "            Conv2d-9           [-1, 32, 22, 22]           4,608\n",
      "             ReLU-10           [-1, 32, 22, 22]               0\n",
      "      BatchNorm2d-11           [-1, 32, 22, 22]              64\n",
      "        Dropout2d-12           [-1, 32, 22, 22]               0\n",
      "           Conv2d-13           [-1, 16, 22, 22]             512\n",
      "             ReLU-14           [-1, 16, 22, 22]               0\n",
      "        MaxPool2d-15           [-1, 16, 11, 11]               0\n",
      "           Conv2d-16             [-1, 16, 9, 9]           2,304\n",
      "             ReLU-17             [-1, 16, 9, 9]               0\n",
      "      BatchNorm2d-18             [-1, 16, 9, 9]              32\n",
      "        Dropout2d-19             [-1, 16, 9, 9]               0\n",
      "           Conv2d-20             [-1, 16, 7, 7]           2,304\n",
      "             ReLU-21             [-1, 16, 7, 7]               0\n",
      "      BatchNorm2d-22             [-1, 16, 7, 7]              32\n",
      "        Dropout2d-23             [-1, 16, 7, 7]               0\n",
      "           Conv2d-24             [-1, 16, 7, 7]           2,304\n",
      "             ReLU-25             [-1, 16, 7, 7]               0\n",
      "      BatchNorm2d-26             [-1, 16, 7, 7]              32\n",
      "        Dropout2d-27             [-1, 16, 7, 7]               0\n",
      "           Conv2d-28             [-1, 16, 5, 5]           2,304\n",
      "             ReLU-29             [-1, 16, 5, 5]               0\n",
      "      BatchNorm2d-30             [-1, 16, 5, 5]              32\n",
      "        Dropout2d-31             [-1, 16, 5, 5]               0\n",
      "           Conv2d-32             [-1, 10, 5, 5]             160\n",
      "        AvgPool2d-33             [-1, 10, 1, 1]               0\n",
      "================================================================\n",
      "Total params: 17,200\n",
      "Trainable params: 17,200\n",
      "Non-trainable params: 0\n",
      "----------------------------------------------------------------\n",
      "Input size (MB): 0.00\n",
      "Forward/backward pass size (MB): 1.32\n",
      "Params size (MB): 0.07\n",
      "Estimated Total Size (MB): 1.39\n",
      "----------------------------------------------------------------\n"
     ]
    },
    {
     "name": "stderr",
     "output_type": "stream",
     "text": [
      "/usr/local/lib/python3.6/dist-packages/ipykernel_launcher.py:92: UserWarning: Implicit dimension choice for log_softmax has been deprecated. Change the call to include dim=X as an argument.\n"
     ]
    }
   ],
   "source": [
    "!pip install torchsummary\n",
    "from torchsummary import summary\n",
    "# check if cuda is available\n",
    "use_cuda = torch.cuda.is_available()\n",
    "device = torch.device(\"cuda\" if use_cuda else \"cpu\")\n",
    "# model the model to the device\n",
    "model = Net().to(device)\n",
    "# print the model summary when given input_size\n",
    "summary(model, input_size=(1, 28, 28))"
   ]
  },
  {
   "cell_type": "code",
   "execution_count": 16,
   "metadata": {
    "colab": {},
    "colab_type": "code",
    "id": "DqTWLaM5GHgH"
   },
   "outputs": [],
   "source": [
    "torch.manual_seed(1)\n",
    "\n",
    "#batch size\n",
    "batch_size = 128\n",
    "\n",
    "# Pin Memory\n",
    "# https://developer.nvidia.com/blog/how-optimize-data-transfers-cuda-cc/\n",
    "# If you load your samples in the Dataset on CPU and would like to push it during training to the GPU, you can speed up the host to device transfer by enabling pin_memory.\n",
    "# This lets your DataLoader allocate the samples in page-locked memory, which speeds-up the transfer.\n",
    "\n",
    "\n",
    "kwargs = {'num_workers': 1, 'pin_memory': True} if use_cuda else {}\n",
    "\n",
    "# train data\n",
    "train_loader = torch.utils.data.DataLoader(\n",
    "    datasets.MNIST('../data', train=True, download=True,\n",
    "                    transform=transforms.Compose([\n",
    "                        transforms.ToTensor(),\n",
    "                        transforms.Normalize((0.1307,), (0.3081,))\n",
    "                    ])),\n",
    "    batch_size=batch_size, shuffle=True, **kwargs)\n",
    "\n",
    "# test data\n",
    "test_loader = torch.utils.data.DataLoader(\n",
    "    datasets.MNIST('../data', train=False, transform=transforms.Compose([\n",
    "                        transforms.ToTensor(),\n",
    "                        transforms.Normalize((0.1307,), (0.3081,))\n",
    "                    ])),\n",
    "    batch_size=batch_size, shuffle=True, **kwargs)\n"
   ]
  },
  {
   "cell_type": "code",
   "execution_count": 17,
   "metadata": {
    "colab": {},
    "colab_type": "code",
    "id": "8fDefDhaFlwH"
   },
   "outputs": [],
   "source": [
    "acc = []\n",
    "from tqdm import tqdm\n",
    "\n",
    "\"\"\"train : trains a given model\n",
    "Params\n",
    "    model: the model to train\n",
    "    device: the device to train on\n",
    "    train_loader: the train data\n",
    "    optimizer: the optimizer to use\n",
    "    epoch: epochs to train for\n",
    "\n",
    "Returns\n",
    "    None\n",
    "\"\"\"\n",
    "\n",
    "def train(model, device, train_loader, optimizer, epoch):\n",
    "    # set the model in training mode\n",
    "    model.train()\n",
    "    pbar = tqdm(train_loader)\n",
    "    # run for all the data in train_loader\n",
    "    for batch_idx, (data, target) in enumerate(pbar):\n",
    "        # fetch the data and the target value\n",
    "        data, target = data.to(device), target.to(device)\n",
    "        # zero out the gradients\n",
    "        optimizer.zero_grad()\n",
    "        # forward pass the model with the data\n",
    "        output = model(data)\n",
    "        # compute the loss occured\n",
    "        loss = F.nll_loss(output, target)\n",
    "        # compute the backward gradients\n",
    "        loss.backward()\n",
    "        # update the optimizer params\n",
    "        optimizer.step()\n",
    "        pbar.set_description(desc= f'loss={loss.item():.05f} batch_id={batch_idx:05d}')\n",
    "\n",
    "\"\"\"test: tests a given model\n",
    "Params\n",
    "    model: the model to test\n",
    "    device: the device used for testing, cpu/gpu\n",
    "    test_loader: the test data\n",
    "\n",
    "Returns\n",
    "    None\n",
    "\"\"\"\n",
    "\n",
    "def test(model, device, test_loader):\n",
    "    # set the model in evaluation mode\n",
    "    model.eval()\n",
    "    # set the loss to zero\n",
    "    test_loss = 0\n",
    "    # the number of correct classifications\n",
    "    correct = 0\n",
    "\n",
    "    # turn off gradients during the testing\n",
    "    with torch.no_grad():\n",
    "        for data, target in test_loader:\n",
    "            # move the data to device\n",
    "            data, target = data.to(device), target.to(device)\n",
    "            # forward pass the model and get the output\n",
    "            output = model(data)\n",
    "            # accumulate the loss\n",
    "            test_loss += F.nll_loss(output, target, reduction='sum').item()  # sum up batch loss\n",
    "            # get the index of max log-probability\n",
    "            pred = output.argmax(dim=1, keepdim=True)  # get the index of the max log-probability\n",
    "            # increment the correct prediction count if pred is correct\n",
    "            correct += pred.eq(target.view_as(pred)).sum().item()\n",
    "\n",
    "    # test loss divided by the total number of items in test dataset\n",
    "    test_loss /= len(test_loader.dataset)\n",
    "\n",
    "    print('\\nTest set: Average loss: {:.4f}, Accuracy: {}/{} ({:.2f}%)\\n'.format(\n",
    "        test_loss, correct, len(test_loader.dataset),\n",
    "        100. * correct / len(test_loader.dataset)))\n",
    "    acc.append(100. * correct / len(test_loader.dataset))"
   ]
  },
  {
   "cell_type": "code",
   "execution_count": 18,
   "metadata": {
    "colab": {
     "base_uri": "https://localhost:8080/",
     "height": 1000
    },
    "colab_type": "code",
    "id": "MMWbLWO6FuHb",
    "outputId": "73e24dd8-b57f-414e-ee57-b28ec670770e"
   },
   "outputs": [
    {
     "name": "stderr",
     "output_type": "stream",
     "text": [
      "\r",
      "  0%|          | 0/469 [00:00<?, ?it/s]"
     ]
    },
    {
     "name": "stdout",
     "output_type": "stream",
     "text": [
      "\n",
      "Epoch 1 : \n"
     ]
    },
    {
     "name": "stderr",
     "output_type": "stream",
     "text": [
      "/usr/local/lib/python3.6/dist-packages/ipykernel_launcher.py:92: UserWarning: Implicit dimension choice for log_softmax has been deprecated. Change the call to include dim=X as an argument.\n",
      "loss=0.26244 batch_id=00468: 100%|██████████| 469/469 [00:13<00:00, 33.70it/s]\n",
      "  0%|          | 0/469 [00:00<?, ?it/s]"
     ]
    },
    {
     "name": "stdout",
     "output_type": "stream",
     "text": [
      "\n",
      "Test set: Average loss: 0.0779, Accuracy: 9771/10000 (97.71%)\n",
      "\n",
      "\n",
      "Epoch 2 : \n"
     ]
    },
    {
     "name": "stderr",
     "output_type": "stream",
     "text": [
      "loss=0.12645 batch_id=00468: 100%|██████████| 469/469 [00:14<00:00, 33.30it/s]\n",
      "  0%|          | 0/469 [00:00<?, ?it/s]"
     ]
    },
    {
     "name": "stdout",
     "output_type": "stream",
     "text": [
      "\n",
      "Test set: Average loss: 0.0476, Accuracy: 9866/10000 (98.66%)\n",
      "\n",
      "\n",
      "Epoch 3 : \n"
     ]
    },
    {
     "name": "stderr",
     "output_type": "stream",
     "text": [
      "loss=0.14759 batch_id=00468: 100%|██████████| 469/469 [00:14<00:00, 33.23it/s]\n",
      "  0%|          | 0/469 [00:00<?, ?it/s]"
     ]
    },
    {
     "name": "stdout",
     "output_type": "stream",
     "text": [
      "\n",
      "Test set: Average loss: 0.0359, Accuracy: 9897/10000 (98.97%)\n",
      "\n",
      "\n",
      "Epoch 4 : \n"
     ]
    },
    {
     "name": "stderr",
     "output_type": "stream",
     "text": [
      "loss=0.12492 batch_id=00468: 100%|██████████| 469/469 [00:14<00:00, 33.26it/s]\n",
      "  0%|          | 0/469 [00:00<?, ?it/s]"
     ]
    },
    {
     "name": "stdout",
     "output_type": "stream",
     "text": [
      "\n",
      "Test set: Average loss: 0.0334, Accuracy: 9890/10000 (98.90%)\n",
      "\n",
      "\n",
      "Epoch 5 : \n"
     ]
    },
    {
     "name": "stderr",
     "output_type": "stream",
     "text": [
      "loss=0.02331 batch_id=00468: 100%|██████████| 469/469 [00:14<00:00, 33.30it/s]\n",
      "  0%|          | 0/469 [00:00<?, ?it/s]"
     ]
    },
    {
     "name": "stdout",
     "output_type": "stream",
     "text": [
      "\n",
      "Test set: Average loss: 0.0303, Accuracy: 9899/10000 (98.99%)\n",
      "\n",
      "\n",
      "Epoch 6 : \n"
     ]
    },
    {
     "name": "stderr",
     "output_type": "stream",
     "text": [
      "loss=0.07108 batch_id=00468: 100%|██████████| 469/469 [00:14<00:00, 33.37it/s]\n",
      "  0%|          | 0/469 [00:00<?, ?it/s]"
     ]
    },
    {
     "name": "stdout",
     "output_type": "stream",
     "text": [
      "\n",
      "Test set: Average loss: 0.0239, Accuracy: 9923/10000 (99.23%)\n",
      "\n",
      "\n",
      "Epoch 7 : \n"
     ]
    },
    {
     "name": "stderr",
     "output_type": "stream",
     "text": [
      "loss=0.24781 batch_id=00468: 100%|██████████| 469/469 [00:14<00:00, 33.47it/s]\n",
      "  0%|          | 0/469 [00:00<?, ?it/s]"
     ]
    },
    {
     "name": "stdout",
     "output_type": "stream",
     "text": [
      "\n",
      "Test set: Average loss: 0.0240, Accuracy: 9921/10000 (99.21%)\n",
      "\n",
      "\n",
      "Epoch 8 : \n"
     ]
    },
    {
     "name": "stderr",
     "output_type": "stream",
     "text": [
      "loss=0.03772 batch_id=00468: 100%|██████████| 469/469 [00:14<00:00, 33.39it/s]\n",
      "  0%|          | 0/469 [00:00<?, ?it/s]"
     ]
    },
    {
     "name": "stdout",
     "output_type": "stream",
     "text": [
      "\n",
      "Test set: Average loss: 0.0232, Accuracy: 9928/10000 (99.28%)\n",
      "\n",
      "\n",
      "Epoch 9 : \n"
     ]
    },
    {
     "name": "stderr",
     "output_type": "stream",
     "text": [
      "loss=0.03895 batch_id=00468: 100%|██████████| 469/469 [00:14<00:00, 33.35it/s]\n",
      "  0%|          | 0/469 [00:00<?, ?it/s]"
     ]
    },
    {
     "name": "stdout",
     "output_type": "stream",
     "text": [
      "\n",
      "Test set: Average loss: 0.0229, Accuracy: 9932/10000 (99.32%)\n",
      "\n",
      "\n",
      "Epoch 10 : \n"
     ]
    },
    {
     "name": "stderr",
     "output_type": "stream",
     "text": [
      "loss=0.02937 batch_id=00468: 100%|██████████| 469/469 [00:13<00:00, 33.55it/s]\n",
      "  0%|          | 0/469 [00:00<?, ?it/s]"
     ]
    },
    {
     "name": "stdout",
     "output_type": "stream",
     "text": [
      "\n",
      "Test set: Average loss: 0.0214, Accuracy: 9935/10000 (99.35%)\n",
      "\n",
      "\n",
      "Epoch 11 : \n"
     ]
    },
    {
     "name": "stderr",
     "output_type": "stream",
     "text": [
      "loss=0.01516 batch_id=00468: 100%|██████████| 469/469 [00:14<00:00, 33.42it/s]\n",
      "  0%|          | 0/469 [00:00<?, ?it/s]"
     ]
    },
    {
     "name": "stdout",
     "output_type": "stream",
     "text": [
      "\n",
      "Test set: Average loss: 0.0202, Accuracy: 9932/10000 (99.32%)\n",
      "\n",
      "\n",
      "Epoch 12 : \n"
     ]
    },
    {
     "name": "stderr",
     "output_type": "stream",
     "text": [
      "loss=0.00758 batch_id=00468: 100%|██████████| 469/469 [00:13<00:00, 33.59it/s]\n",
      "  0%|          | 0/469 [00:00<?, ?it/s]"
     ]
    },
    {
     "name": "stdout",
     "output_type": "stream",
     "text": [
      "\n",
      "Test set: Average loss: 0.0203, Accuracy: 9939/10000 (99.39%)\n",
      "\n",
      "\n",
      "Epoch 13 : \n"
     ]
    },
    {
     "name": "stderr",
     "output_type": "stream",
     "text": [
      "loss=0.07053 batch_id=00468: 100%|██████████| 469/469 [00:13<00:00, 33.76it/s]\n",
      "  0%|          | 0/469 [00:00<?, ?it/s]"
     ]
    },
    {
     "name": "stdout",
     "output_type": "stream",
     "text": [
      "\n",
      "Test set: Average loss: 0.0207, Accuracy: 9931/10000 (99.31%)\n",
      "\n",
      "\n",
      "Epoch 14 : \n"
     ]
    },
    {
     "name": "stderr",
     "output_type": "stream",
     "text": [
      "loss=0.06552 batch_id=00468: 100%|██████████| 469/469 [00:14<00:00, 33.38it/s]\n",
      "  0%|          | 0/469 [00:00<?, ?it/s]"
     ]
    },
    {
     "name": "stdout",
     "output_type": "stream",
     "text": [
      "\n",
      "Test set: Average loss: 0.0199, Accuracy: 9938/10000 (99.38%)\n",
      "\n",
      "\n",
      "Epoch 15 : \n"
     ]
    },
    {
     "name": "stderr",
     "output_type": "stream",
     "text": [
      "loss=0.01377 batch_id=00468: 100%|██████████| 469/469 [00:13<00:00, 33.59it/s]\n",
      "  0%|          | 0/469 [00:00<?, ?it/s]"
     ]
    },
    {
     "name": "stdout",
     "output_type": "stream",
     "text": [
      "\n",
      "Test set: Average loss: 0.0208, Accuracy: 9933/10000 (99.33%)\n",
      "\n",
      "\n",
      "Epoch 16 : \n"
     ]
    },
    {
     "name": "stderr",
     "output_type": "stream",
     "text": [
      "loss=0.04100 batch_id=00468: 100%|██████████| 469/469 [00:14<00:00, 33.41it/s]\n",
      "  0%|          | 0/469 [00:00<?, ?it/s]"
     ]
    },
    {
     "name": "stdout",
     "output_type": "stream",
     "text": [
      "\n",
      "Test set: Average loss: 0.0200, Accuracy: 9935/10000 (99.35%)\n",
      "\n",
      "\n",
      "Epoch 17 : \n"
     ]
    },
    {
     "name": "stderr",
     "output_type": "stream",
     "text": [
      "loss=0.10428 batch_id=00468: 100%|██████████| 469/469 [00:14<00:00, 33.14it/s]\n",
      "  0%|          | 0/469 [00:00<?, ?it/s]"
     ]
    },
    {
     "name": "stdout",
     "output_type": "stream",
     "text": [
      "\n",
      "Test set: Average loss: 0.0179, Accuracy: 9941/10000 (99.41%)\n",
      "\n",
      "\n",
      "Epoch 18 : \n"
     ]
    },
    {
     "name": "stderr",
     "output_type": "stream",
     "text": [
      "loss=0.03915 batch_id=00468: 100%|██████████| 469/469 [00:14<00:00, 33.46it/s]\n",
      "  0%|          | 0/469 [00:00<?, ?it/s]"
     ]
    },
    {
     "name": "stdout",
     "output_type": "stream",
     "text": [
      "\n",
      "Test set: Average loss: 0.0189, Accuracy: 9932/10000 (99.32%)\n",
      "\n",
      "\n",
      "Epoch 19 : \n"
     ]
    },
    {
     "name": "stderr",
     "output_type": "stream",
     "text": [
      "loss=0.08702 batch_id=00468: 100%|██████████| 469/469 [00:14<00:00, 33.37it/s]\n",
      "  0%|          | 0/469 [00:00<?, ?it/s]"
     ]
    },
    {
     "name": "stdout",
     "output_type": "stream",
     "text": [
      "\n",
      "Test set: Average loss: 0.0199, Accuracy: 9942/10000 (99.42%)\n",
      "\n",
      "\n",
      "Epoch 20 : \n"
     ]
    },
    {
     "name": "stderr",
     "output_type": "stream",
     "text": [
      "loss=0.05391 batch_id=00468: 100%|██████████| 469/469 [00:13<00:00, 33.69it/s]\n"
     ]
    },
    {
     "name": "stdout",
     "output_type": "stream",
     "text": [
      "\n",
      "Test set: Average loss: 0.0186, Accuracy: 9951/10000 (99.51%)\n",
      "\n"
     ]
    }
   ],
   "source": [
    "# move the model to the specified device\n",
    "model = Net().to(device)\n",
    "\n",
    "# use Stochastic Gradient Descent as the optimizer\n",
    "# learning_rate=0.01 and momentum=0.9 for SGD\n",
    "optimizer = optim.SGD(model.parameters(), lr=0.01, momentum=0.9)\n",
    "\n",
    "\n",
    "# set the number of epochs to train for\n",
    "N_EPOCH = 20\n",
    "\n",
    "# run it for N_EPOCH number of times\n",
    "for epoch in range(1, N_EPOCH+1):\n",
    "    print('\\nEpoch {} : '.format(epoch))    \n",
    "    # train the model    \n",
    "    train(model, device, train_loader, optimizer, epoch)\n",
    "    # test the model\n",
    "    test(model, device, test_loader)"
   ]
  },
  {
   "cell_type": "code",
   "execution_count": 44,
   "metadata": {
    "colab": {
     "base_uri": "https://localhost:8080/",
     "height": 282
    },
    "colab_type": "code",
    "id": "LzIMGMZhCVH6",
    "outputId": "21203299-0e88-4957-e68c-26b8bb753aa7"
   },
   "outputs": [
    {
     "data": {
      "image/png": "[encoded data removed]",
      "text/plain": [
       "<Figure size 432x288 with 1 Axes>"
      ]
     },
     "metadata": {
      "needs_background": "light",
      "tags": []
     },
     "output_type": "display_data"
    },
    {
     "name": "stdout",
     "output_type": "stream",
     "text": [
      "Maximum Accuracy : 99.51\n"
     ]
    }
   ],
   "source": [
    "import matplotlib.pyplot as plt\n",
    "ax = plt.gca()\n",
    "ax.set_xlim([0, epoch+2])\n",
    "ax.grid(linestyle='-.')\n",
    "plt.ylabel('Accuracy')\n",
    "plt.plot(acc)\n",
    "plt.show()\n",
    "\n",
    "print(\"Maximum Accuracy :\",max(acc))"
   ]
  },
  {
   "cell_type": "code",
   "execution_count": null,
   "metadata": {
    "colab": {},
    "colab_type": "code",
    "id": "sVRPyhan-xKa"
   },
   "outputs": [],
   "source": []
  }
 ],
 "metadata": {
  "accelerator": "GPU",
  "colab": {
   "collapsed_sections": [],
   "name": "Jai_Assignment_4.ipynb",
   "provenance": []
  },
  "kernelspec": {
   "display_name": "Python 3",
   "language": "python",
   "name": "python3"
  },
  "language_info": {
   "codemirror_mode": {
    "name": "ipython",
    "version": 3
   },
   "file_extension": ".py",
   "mimetype": "text/x-python",
   "name": "python",
   "nbconvert_exporter": "python",
   "pygments_lexer": "ipython3",
   "version": "3.8.3"
  }
 },
 "nbformat": 4,
 "nbformat_minor": 1
}
